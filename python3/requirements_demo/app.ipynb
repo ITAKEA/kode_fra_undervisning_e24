{
 "cells": [
  {
   "cell_type": "code",
   "execution_count": 9,
   "metadata": {},
   "outputs": [
    {
     "name": "stdout",
     "output_type": "stream",
     "text": [
      "Requirement already satisfied: Flask==3.0.3 in /Users/clbo/Tresors/KEA/ITA/kode_fra_undervisning_e24/.venv/lib/python3.12/site-packages (from -r requirements.txt (line 1)) (3.0.3)\n",
      "Requirement already satisfied: Werkzeug>=3.0.0 in /Users/clbo/Tresors/KEA/ITA/kode_fra_undervisning_e24/.venv/lib/python3.12/site-packages (from Flask==3.0.3->-r requirements.txt (line 1)) (3.0.4)\n",
      "Requirement already satisfied: Jinja2>=3.1.2 in /Users/clbo/Tresors/KEA/ITA/kode_fra_undervisning_e24/.venv/lib/python3.12/site-packages (from Flask==3.0.3->-r requirements.txt (line 1)) (3.1.4)\n",
      "Requirement already satisfied: itsdangerous>=2.1.2 in /Users/clbo/Tresors/KEA/ITA/kode_fra_undervisning_e24/.venv/lib/python3.12/site-packages (from Flask==3.0.3->-r requirements.txt (line 1)) (2.2.0)\n",
      "Requirement already satisfied: click>=8.1.3 in /Users/clbo/Tresors/KEA/ITA/kode_fra_undervisning_e24/.venv/lib/python3.12/site-packages (from Flask==3.0.3->-r requirements.txt (line 1)) (8.1.7)\n",
      "Requirement already satisfied: blinker>=1.6.2 in /Users/clbo/Tresors/KEA/ITA/kode_fra_undervisning_e24/.venv/lib/python3.12/site-packages (from Flask==3.0.3->-r requirements.txt (line 1)) (1.8.2)\n",
      "Requirement already satisfied: MarkupSafe>=2.0 in /Users/clbo/Tresors/KEA/ITA/kode_fra_undervisning_e24/.venv/lib/python3.12/site-packages (from Jinja2>=3.1.2->Flask==3.0.3->-r requirements.txt (line 1)) (2.1.5)\n",
      "Note: you may need to restart the kernel to use updated packages.\n"
     ]
    }
   ],
   "source": [
    "%pip install -r requirements.txt"
   ]
  },
  {
   "cell_type": "code",
   "execution_count": 3,
   "metadata": {},
   "outputs": [
    {
     "name": "stdout",
     "output_type": "stream",
     "text": [
      " * Serving Flask app '__main__'\n",
      " * Debug mode: off\n"
     ]
    },
    {
     "name": "stderr",
     "output_type": "stream",
     "text": [
      "\u001b[31m\u001b[1mWARNING: This is a development server. Do not use it in a production deployment. Use a production WSGI server instead.\u001b[0m\n",
      " * Running on http://127.0.0.1:5000\n",
      "\u001b[33mPress CTRL+C to quit\u001b[0m\n",
      "127.0.0.1 - - [13/Sep/2024 09:51:41] \"GET / HTTP/1.1\" 200 -\n"
     ]
    }
   ],
   "source": [
    "from data import persons, avg_age\n",
    "from flask import Flask, jsonify\n",
    "\n",
    "app = Flask(__name__)\n",
    "\n",
    "@app.route('/', methods=['GET'])\n",
    "def index():\n",
    "    return jsonify(persons)\n",
    "\n",
    "@app.route('/avg', methods=['GET'])\n",
    "def avg():\n",
    "    return jsonify(avg_age())\n",
    "\n",
    "app.run()"
   ]
  }
 ],
 "metadata": {
  "kernelspec": {
   "display_name": ".venv",
   "language": "python",
   "name": "python3"
  },
  "language_info": {
   "codemirror_mode": {
    "name": "ipython",
    "version": 3
   },
   "file_extension": ".py",
   "mimetype": "text/x-python",
   "name": "python",
   "nbconvert_exporter": "python",
   "pygments_lexer": "ipython3",
   "version": "3.12.5"
  }
 },
 "nbformat": 4,
 "nbformat_minor": 2
}
