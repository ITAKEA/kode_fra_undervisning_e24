{
 "cells": [
  {
   "cell_type": "markdown",
   "metadata": {},
   "source": [
    "# San Francisco Crime Data Analysis "
   ]
  },
  {
   "cell_type": "markdown",
   "metadata": {},
   "source": [
    "### Load some crime-data into your Jupyter notebook\n",
    "The data we will be working with is perfect for `pandas`, so a good approach is to go to [Pandas Tutorial](https://www.w3schools.com/python/pandas/default.asp) if you don't and figure out how to load data into `pandas` means."
   ]
  },
  {
   "cell_type": "markdown",
   "metadata": {},
   "source": [
    "> *Exercise 1*\n",
    ">\n",
    "> * Go to https://datasf.org/opendata/\n",
    "> * Click on \"Public Safety\"\n",
    "> * You will notice that the SF crime data is divided into two periods. One from 2003 to May 2018 and one which is all of 2018 to the present. **Today, to keep things easy, we will just work with the data from 2003 to 2018** (from January 1st 2003 to December 31st 2017 to be exact). \n",
    "> * Thus, you may simply download all police incidence reports, historical 2003 to may 2018. You can get everything as a big CSV file if you press the *Export* button (it's a snappy little ~500MB file).\n",
    "> * To get this thing into `pandas`, you can use the tips and tricks described [here](https://www.shanelynn.ie/python-pandas-read_csv-load-data-from-csv-files/). If you want to try your luck without `pandas`, you can use the `csv` package to load the file.\n",
    "> * Now generate the following simple statistics\n",
    ">   - Report the total number of crimes in the dataset.\n",
    ">   - List the various categories of crime. How many are there? \n",
    ">   - List the number of crimes in each category.\n",
    "\n",
    "---\n",
    "\n",
    "In order to do awesome *predictive policing*, we're going to dissect the SF crime-data quite thoroughly to figure out what has been going on over the last  years on the San Francisco crime scene. \n",
    "\n",
    "> *Exercise 2*: The types of crimes. The first field we'll dig into is the column \"Category\".\n",
    "> * We have already counted the number of crimes in each category. What is the most commonly occurring category of crime? What is the least frequently occurring?\n",
    "> * Create a bar-plot over crime occurrences. First essential lesson regarding data visualization: **For a plot to be informative you need to label the axes** (The police chief will be furious if you forget). It can also be nice to other relevant pieces of info, title, labels, etc.). Mine looks like this (but yours doesn't have to look exactly like mine - the important thing is that you clearly communicate the information in the dataset).\n",
    "\n",
    "<div>\n",
    "<img src=\"https://raw.githubusercontent.com/suneman/socialdata2022/main/files/CrimeOccurrencesByCategory.png\" width=\"700\"/>\n",
    "</div>"
   ]
  },
  {
   "cell_type": "markdown",
   "metadata": {},
   "source": [
    "<small><div style='text-align:right'>(C) Sune Lehmann (https://github.com/suneman/socialdata2024/blob/main/lectures/Week1.ipynb)</div></small>"
   ]
  }
 ],
 "metadata": {
  "kernelspec": {
   "display_name": ".venv",
   "language": "python",
   "name": "python3"
  },
  "language_info": {
   "name": "python",
   "version": "3.12.5"
  }
 },
 "nbformat": 4,
 "nbformat_minor": 2
}
