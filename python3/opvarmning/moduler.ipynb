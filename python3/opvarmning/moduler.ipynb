{
 "cells": [
  {
   "cell_type": "markdown",
   "metadata": {
    "slideshow": {
     "slide_type": "slide"
    }
   },
   "source": [
    "# Moduler og Pakker i python"
   ]
  },
  {
   "cell_type": "markdown",
   "metadata": {
    "slideshow": {
     "slide_type": "fragment"
    }
   },
   "source": [
    "* 1 minut alene\n",
    "* 1 minut sammen\n",
    "* 1 minut ved tavlen"
   ]
  },
  {
   "cell_type": "markdown",
   "metadata": {
    "slideshow": {
     "slide_type": "slide"
    }
   },
   "source": [
    "## Hvad er et python modul?\n",
    "\n",
    "1. en fil med filtypeendelsen (.module)\n",
    "2. kode der er pakket ind i { } brackets\n",
    "3. en file med filtypeendelsen (.py)\n",
    "4. en mappe med minimum èn \\_\\_init\\_\\_.py fil "
   ]
  },
  {
   "cell_type": "markdown",
   "metadata": {
    "slideshow": {
     "slide_type": "fragment"
    }
   },
   "source": [
    "<img style='float: right' src='2-countdown.gif'>"
   ]
  },
  {
   "cell_type": "markdown",
   "metadata": {
    "slideshow": {
     "slide_type": "slide"
    }
   },
   "source": [
    "## Hvordan importeres et python modul?\n",
    "\n",
    "1. med `import` statement\n",
    "2. man skriver sti´en til hvor modulet er instaleret\n",
    "3. med `from` og `import` statements\n",
    "4. modulet skal ligge i samme mappe som koden "
   ]
  },
  {
   "cell_type": "markdown",
   "metadata": {
    "slideshow": {
     "slide_type": "fragment"
    }
   },
   "source": [
    "<img style='float: right' src='2-countdown.gif'>"
   ]
  },
  {
   "cell_type": "markdown",
   "metadata": {
    "slideshow": {
     "slide_type": "slide"
    }
   },
   "source": [
    "## Hvordan instaleres et 3. part modul fra PyPi.org?\n",
    "\n",
    "1. med feks. `wget https://servername.org/package_name` \n",
    "2. med feks. `git clone https://github.com/ITAKEA/kode_fra_undervisning_e24/`\n",
    "3. med `pip install <package_name>`\n",
    "4. med `python -m pip install <package_name>` "
   ]
  },
  {
   "cell_type": "markdown",
   "metadata": {
    "slideshow": {
     "slide_type": "fragment"
    }
   },
   "source": [
    "<img style='float: right' src='2-countdown.gif'>"
   ]
  },
  {
   "cell_type": "markdown",
   "metadata": {
    "slideshow": {
     "slide_type": "slide"
    }
   },
   "source": [
    "## Hvordan opretter man et virtuelt miljø?\n",
    "\n",
    "1. `python -m pip install venv`\n",
    "2. `python3 -m venv .venv`\n",
    "3. `pip venv .venv`\n",
    "4. `source .venv/bin/activate` "
   ]
  },
  {
   "cell_type": "markdown",
   "metadata": {
    "slideshow": {
     "slide_type": "fragment"
    }
   },
   "source": [
    "<img style='float: right' src='2-countdown.gif'>"
   ]
  },
  {
   "cell_type": "markdown",
   "metadata": {
    "slideshow": {
     "slide_type": "slide"
    }
   },
   "source": [
    "## Hvordan aktiverer man et virtuelt miljø?\n",
    "\n",
    "1. `venv\\Scripts\\activate.bat`\n",
    "2. `python3 -m venv .venv`\n",
    "3. `pip venv .venv`\n",
    "4. `source .venv/bin/activate` "
   ]
  },
  {
   "cell_type": "markdown",
   "metadata": {
    "slideshow": {
     "slide_type": "fragment"
    }
   },
   "source": [
    "<img style='float: right' src='2-countdown.gif'>"
   ]
  },
  {
   "cell_type": "markdown",
   "metadata": {
    "slideshow": {
     "slide_type": "slide"
    }
   },
   "source": [
    "## Hvordan læser man fra en csv-fil i python?"
   ]
  },
  {
   "cell_type": "code",
   "execution_count": 4,
   "metadata": {},
   "outputs": [],
   "source": [
    "# 1     f = open('test.csv', 'w')"
   ]
  },
  {
   "cell_type": "code",
   "execution_count": null,
   "metadata": {},
   "outputs": [],
   "source": [
    "# 2     with open('test.csv', 'r') as f: \n",
    "#               f.read()"
   ]
  },
  {
   "cell_type": "code",
   "execution_count": 3,
   "metadata": {},
   "outputs": [],
   "source": [
    "# 3     f = 'test.csv'\n",
    "#       f.open()"
   ]
  },
  {
   "cell_type": "code",
   "execution_count": null,
   "metadata": {},
   "outputs": [],
   "source": [
    "# 4     f = 'test.csv'\n",
    "#       r = f.open()\n",
    "#       r.read()"
   ]
  },
  {
   "cell_type": "markdown",
   "metadata": {
    "slideshow": {
     "slide_type": "fragment"
    }
   },
   "source": [
    "<img style='float: right' src='2-countdown.gif'>"
   ]
  },
  {
   "cell_type": "markdown",
   "metadata": {},
   "source": [
    "## Hvordan skriver man til en tekstfil i python?"
   ]
  },
  {
   "cell_type": "code",
   "execution_count": null,
   "metadata": {},
   "outputs": [],
   "source": [
    "# 1     f = open('test.txt', 'w')\n",
    "#       f.write('Hello')"
   ]
  },
  {
   "cell_type": "code",
   "execution_count": null,
   "metadata": {},
   "outputs": [],
   "source": [
    "# 2     with open('test.txt', 'w') as f: \n",
    "#               f.write('Hello')"
   ]
  },
  {
   "cell_type": "code",
   "execution_count": null,
   "metadata": {},
   "outputs": [],
   "source": [
    "# 3     f = 'test.txt'\n",
    "#       f.open()"
   ]
  },
  {
   "cell_type": "code",
   "execution_count": null,
   "metadata": {},
   "outputs": [],
   "source": [
    "# 4     f = 'test.txt'\n",
    "#       r = f.open()\n",
    "#       r.write()"
   ]
  },
  {
   "cell_type": "markdown",
   "metadata": {},
   "source": [
    "<img style='float: right' src='2-countdown.gif'>"
   ]
  }
 ],
 "metadata": {
  "kernelspec": {
   "display_name": ".venv",
   "language": "python",
   "name": "python3"
  },
  "language_info": {
   "codemirror_mode": {
    "name": "ipython",
    "version": 3
   },
   "file_extension": ".py",
   "mimetype": "text/x-python",
   "name": "python",
   "nbconvert_exporter": "python",
   "pygments_lexer": "ipython3",
   "version": "3.12.5"
  }
 },
 "nbformat": 4,
 "nbformat_minor": 2
}
