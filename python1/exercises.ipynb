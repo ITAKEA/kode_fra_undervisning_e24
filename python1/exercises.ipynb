{
 "cells": [
  {
   "cell_type": "markdown",
   "metadata": {},
   "source": [
    "## Øvelse: plat eller krone med brugerinput\n",
    "\n",
    "1. Spørg en bruger om han/hun vil starte med plat eller krone.\n",
    "2. Spørg herefter om brugeren vil gå videre eller stoppe.\n",
    "3. Hvis han/hun vil stoppe, skal værdien printes ud og programmet stoppe\n",
    "    * hvis han/hun vil gå videre skal værdien ændres, printes ud og programmet skal stoppe.\n",
    "\n",
    "Brug kun: \n",
    "\n",
    "* datatyper\n",
    "* build in functions (https://docs.python.org/3/library/functions.html) \n",
    "* if/else \n",
    "\n",
    "til at løse opgaven."
   ]
  },
  {
   "cell_type": "code",
   "execution_count": null,
   "metadata": {},
   "outputs": [],
   "source": []
  }
 ],
 "metadata": {
  "kernelspec": {
   "display_name": ".venv",
   "language": "python",
   "name": "python3"
  },
  "language_info": {
   "name": "python",
   "version": "3.12.3"
  }
 },
 "nbformat": 4,
 "nbformat_minor": 2
}
