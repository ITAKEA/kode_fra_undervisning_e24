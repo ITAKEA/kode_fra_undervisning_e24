{
 "cells": [
  {
   "cell_type": "markdown",
   "metadata": {},
   "source": [
    "## Øvelse: plat eller krone med brugerinput\n",
    "\n",
    "1. Spørg en bruger om han/hun vil starte med plat eller krone.\n",
    "2. Spørg herefter om brugeren vil gå videre eller stoppe.\n",
    "3. Hvis han/hun vil stoppe, skal værdien printes ud og programmet stoppe\n",
    "    * hvis han/hun vil gå videre skal værdien ændres, printes ud og programmet skal stoppe.\n",
    "\n",
    "Brug kun: \n",
    "\n",
    "* datatyper\n",
    "    * bool\n",
    "    * int\n",
    "    * float\n",
    "    * str\n",
    "* build in functions (https://docs.python.org/3/library/functions.html)\n",
    "    * bool()\n",
    "    * int()\n",
    "    * float()\n",
    "    * print()\n",
    "    * input()\n",
    "    * type()\n",
    "* if/else \n",
    "\n",
    "til at løse opgaven."
   ]
  },
  {
   "cell_type": "code",
   "execution_count": null,
   "metadata": {},
   "outputs": [],
   "source": [
    "x = bool(int(input('Plat (0) eller Krone (1)? : ')))\n",
    "print(f'Du valgte {x}')\n",
    "y = input('Vil du gå videre? (y/n): ')\n",
    "if y == 'y':\n",
    "    x = not x\n",
    "print(f'Du har valgt at slutte med {x}')"
   ]
  }
 ],
 "metadata": {
  "kernelspec": {
   "display_name": ".venv",
   "language": "python",
   "name": "python3"
  },
  "language_info": {
   "name": "python",
   "version": "3.12.5"
  }
 },
 "nbformat": 4,
 "nbformat_minor": 2
}
