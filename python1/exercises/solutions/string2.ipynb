{
 "cells": [
  {
   "attachments": {},
   "cell_type": "markdown",
   "metadata": {},
   "source": [
    "# Additional basic string exercises\n",
    "\n",
    "## D. verbing\n",
    "Given a string, if its length is at least 3,\n",
    "add 'ing' to its end.\n",
    "Unless it already ends in 'ing', in which case\n",
    "add 'ly' instead.\n",
    "If the string length is less than 3, leave it unchanged.\n",
    "Return the resulting string."
   ]
  },
  {
   "cell_type": "code",
   "execution_count": 11,
   "id": "bc0d25c7",
   "metadata": {},
   "outputs": [],
   "source": [
    "def verbing(s):\n",
    "  if len(s) < 3:\n",
    "    return s\n",
    "  if s[-3:] == 'ing':\n",
    "    return s + 'ly'\n",
    "  if len(s) >= 3: \n",
    "    return s+'ing'"
   ]
  },
  {
   "attachments": {},
   "cell_type": "markdown",
   "id": "aaa03a1b",
   "metadata": {},
   "source": [
    "## E. not_bad\n",
    "Given a string, find the first appearance of the\n",
    "substring 'not' and 'bad'. If the 'bad' follows\n",
    "the 'not', replace the whole 'not'...'bad' substring\n",
    "with 'good'.    \n",
    "Return the resulting string.    \n",
    "So 'This dinner is not that bad!' yields:\n",
    "This dinner is good!"
   ]
  },
  {
   "cell_type": "code",
   "execution_count": 12,
   "id": "0ca8f5c8",
   "metadata": {},
   "outputs": [],
   "source": [
    "def not_bad(s):\n",
    "  not_index = s.find('not') # find index på 'n'\n",
    "  bad_index = s.find('bad') # find index på 'b'\n",
    "  if not_index < bad_index:\n",
    "    return s[:not_index] + 'good' + s[bad_index + 3:]\n",
    "  return s"
   ]
  },
  {
   "attachments": {},
   "cell_type": "markdown",
   "id": "b7f493d5",
   "metadata": {},
   "source": [
    "## F. front_back\n",
    "Consider dividing a string into two halves.    \n",
    "If the length is even, the front and back halves are the same length.    \n",
    "If the length is odd, we'll say that the extra char goes in the front half.    \n",
    "e.g. 'abcde', the front half is 'abc', the back half 'de'.    \n",
    "Given 2 strings, a and b, return a string of the form \n",
    "a-front + b-front + a-back + b-back"
   ]
  },
  {
   "cell_type": "code",
   "execution_count": 38,
   "id": "5f8b9347",
   "metadata": {},
   "outputs": [],
   "source": [
    "def front_back(a, b):\n",
    "  if len(a)%2 == 0 and len(b)%2 == 0:\n",
    "    a_front = a[:int(len(a)/2)]\n",
    "    a_back = a[int(len(a)/2):] \n",
    "    b_front = b[:int(len(b)/2)]\n",
    "    b_back = b[int(len(b)/2):]\n",
    "    \n",
    "  if len(a)%2 == 0 and len(b)%2 != 0:  \n",
    "    a_front = a[:int(len(a)/2)]\n",
    "    a_back = a[int(len(a)/2):] \n",
    "    b_front = b[:int(len(b)/2) + 1]\n",
    "    b_back = b[int(len(b)/2) + 1:]\n",
    "    \n",
    "  if len(a)%2 != 0 and len(b)%2 == 0:  \n",
    "    a_front = a[:int(len(a)+1/2) + 1]\n",
    "    a_back = a[int(len(a)+1/2) + 1:] \n",
    "    b_front = b[:int(len(b)/2)]\n",
    "    b_back = b[int(len(b)/2):]\n",
    "    \n",
    "  if len(a)%2 != 0 and len(b)%2 != 0:\n",
    "    a_front = a[:int(len(a)/2) + 1]\n",
    "    a_back = a[int(len(a)/2 + 1 ):] \n",
    "    b_front = b[:int(len(b)/2) + 1]\n",
    "    b_back = b[int(len(b)/2) + 1:]\n",
    "    \n",
    "  return a_front + b_front + a_back + b_back"
   ]
  },
  {
   "cell_type": "code",
   "execution_count": 32,
   "id": "420540c1",
   "metadata": {},
   "outputs": [],
   "source": [
    "# THIS CODE CELL SHOUL NOT BE CHANGED OR TOUCHED (ONLY RUN)\n",
    "\n",
    "def test(got, expected):\n",
    "  if got == expected:\n",
    "    prefix = ' OK '\n",
    "  else:\n",
    "    prefix = '  X '\n",
    "  print (prefix + ' got: ' + got + ' expected: ' + expected)"
   ]
  },
  {
   "cell_type": "code",
   "execution_count": 39,
   "id": "378091d8",
   "metadata": {},
   "outputs": [],
   "source": [
    "# THIS CODE CELL SHOUL NOT BE CHANGED OR TOUCHED (ONLY RUN)\n",
    "\n",
    "def main():\n",
    "  print ('verbing')\n",
    "  test(verbing('hail'), 'hailing')\n",
    "  test(verbing('swiming'), 'swimingly')\n",
    "  test(verbing('do'), 'do')\n",
    "\n",
    "  print()\n",
    "  print ('not_bad')\n",
    "  test(not_bad('This movie is not so bad'), 'This movie is good')\n",
    "  test(not_bad('This dinner is not that bad!'), 'This dinner is good!')\n",
    "  test(not_bad('This tea is not hot'), 'This tea is not hot')\n",
    "  test(not_bad(\"It's bad yet not\"), \"It's bad yet not\")\n",
    "\n",
    "  print()\n",
    "  print ('front_back')\n",
    "  test(front_back('abcd', 'xy'), 'abxcdy')\n",
    "  test(front_back('abcde', 'xyz'), 'abcxydez')\n",
    "  test(front_back('Kitten', 'Donut'), 'KitDontenut')"
   ]
  },
  {
   "cell_type": "code",
   "execution_count": 40,
   "id": "b71c55f9",
   "metadata": {},
   "outputs": [
    {
     "name": "stdout",
     "output_type": "stream",
     "text": [
      "verbing\n",
      " OK  got: hailing expected: hailing\n",
      " OK  got: swimingly expected: swimingly\n",
      " OK  got: do expected: do\n",
      "\n",
      "not_bad\n",
      " OK  got: This movie is good expected: This movie is good\n",
      " OK  got: This dinner is good! expected: This dinner is good!\n",
      " OK  got: This tea is not hot expected: This tea is not hot\n",
      " OK  got: It's bad yet not expected: It's bad yet not\n",
      "\n",
      "front_back\n",
      " OK  got: abxcdy expected: abxcdy\n",
      " OK  got: abcxydez expected: abcxydez\n",
      " OK  got: KitDontenut expected: KitDontenut\n"
     ]
    }
   ],
   "source": [
    "# THIS CODE CELL SHOUL NOT BE CHANGED OR TOUCHED (ONLY RUN)\n",
    "main()"
   ]
  }
 ],
 "metadata": {
  "kernelspec": {
   "display_name": "Python 3",
   "language": "python",
   "name": "python3"
  },
  "language_info": {
   "codemirror_mode": {
    "name": "ipython",
    "version": 3
   },
   "file_extension": ".py",
   "mimetype": "text/x-python",
   "name": "python",
   "nbconvert_exporter": "python",
   "pygments_lexer": "ipython3",
   "version": "3.12.5"
  }
 },
 "nbformat": 4,
 "nbformat_minor": 5
}
