{
 "cells": [
  {
   "cell_type": "markdown",
   "metadata": {},
   "source": [
    "# Datatypeøvelser"
   ]
  },
  {
   "cell_type": "markdown",
   "metadata": {},
   "source": [
    "Øvelser til første undervisningsgang i python"
   ]
  },
  {
   "cell_type": "markdown",
   "metadata": {},
   "source": [
    "## Øvelse 1: plat eller krone med brugerinput\n",
    "\n",
    "1. Spørg en bruger om han/hun vil starte med plat eller krone.\n",
    "2. Spørg herefter om brugeren vil gå videre eller stoppe.\n",
    "3. Hvis han/hun vil stoppe, skal værdien printes ud og programmet stoppe\n",
    "    * hvis han/hun vil gå videre skal værdien ændres, printes ud og programmet skal stoppe.\n",
    "\n",
    "Brug kun: \n",
    "\n",
    "* datatyper\n",
    "    * bool\n",
    "    * int\n",
    "    * float\n",
    "    * str\n",
    "* build in functions (https://docs.python.org/3/library/functions.html)\n",
    "    * bool()\n",
    "    * int()\n",
    "    * float()\n",
    "    * print()\n",
    "    * input()\n",
    "    * type()\n",
    "* if/else \n",
    "\n",
    "til at løse opgaven."
   ]
  },
  {
   "cell_type": "markdown",
   "metadata": {},
   "source": [
    "## Øvelse 2: Funktioners navne\n",
    "Funktioner er et object ligesom alle andre objecter/ting i python. Funktioners navne er et variabelnavn ligesom alle andre variabelnavne.     \n",
    "Det betyder selvfølgelig også at man lave nye variabler der peger på det samme object. \n",
    "\n",
    "Et ekesempel er:"
   ]
  },
  {
   "cell_type": "code",
   "execution_count": 5,
   "metadata": {},
   "outputs": [
    {
     "name": "stdout",
     "output_type": "stream",
     "text": [
      "12\n",
      "12\n"
     ]
    },
    {
     "data": {
      "text/plain": [
       "True"
      ]
     },
     "execution_count": 5,
     "metadata": {},
     "output_type": "execute_result"
    }
   ],
   "source": [
    "a = 12\n",
    "b = a\n",
    "print(a)\n",
    "print(b)\n",
    "a is b"
   ]
  },
  {
   "cell_type": "markdown",
   "metadata": {},
   "source": [
    "Man kan også se at objekterne er det samme ved at checke med **is**.    \n",
    "**Lav en simple function og kald den.**        \n",
    "**Herefter skal du ændre dens navn på samme måde som i a, b eksemplet herover, og kald på funktionen igen, men nu med den nye navn.**"
   ]
  },
  {
   "cell_type": "markdown",
   "metadata": {},
   "source": []
  }
 ],
 "metadata": {
  "kernelspec": {
   "display_name": ".venv",
   "language": "python",
   "name": "python3"
  },
  "language_info": {
   "codemirror_mode": {
    "name": "ipython",
    "version": 3
   },
   "file_extension": ".py",
   "mimetype": "text/x-python",
   "name": "python",
   "nbconvert_exporter": "python",
   "pygments_lexer": "ipython3",
   "version": "3.12.4"
  }
 },
 "nbformat": 4,
 "nbformat_minor": 2
}
