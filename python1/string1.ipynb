{
 "cells": [
  {
   "cell_type": "markdown",
   "metadata": {},
   "source": [
    "# Basic string exercises\n",
    "Fill in the code for the functions below. main() is already set up to call the functions with a few different inputs, printing 'OK' when each function is correct.    \n",
    "\n",
    "The starter code for each function includes a 'return' which is just a placeholder for your code.    \n",
    "\n",
    "It's ok if you do not complete all the functions, and there are some additional functions to try in string2.py.    "
   ]
  },
  {
   "cell_type": "markdown",
   "metadata": {},
   "source": [
    "## A. donuts\n",
    "Given an int count of a number of donuts, return a string of the form ```'Number of donuts: <count>'```, where ```<count>``` is the number passed in. However, if the count is 10 or more, then use the word ```'many'``` instead of the actual count.     \n",
    "\n",
    "So ```donuts(5)``` returns ```'Number of donuts: 5'``` and ```donuts(23)``` returns ```'Number of donuts: many'```    "
   ]
  },
  {
   "cell_type": "code",
   "execution_count": 10,
   "metadata": {},
   "outputs": [],
   "source": [
    "def donuts(count):\n",
    "    if count >= 10:\n",
    "      return 'Number of donuts: many'\n",
    "    return f'Number of donuts: {count}' "
   ]
  },
  {
   "cell_type": "markdown",
   "metadata": {},
   "source": [
    "## B. both_ends\n",
    "Given a string s, return a string made of the first 2    \n",
    "and the last 2 chars of the original string,    \n",
    "so 'spring' yields 'spng'. However, if the string length    \n",
    "is less than 2, return instead the empty string.    "
   ]
  },
  {
   "cell_type": "code",
   "execution_count": 9,
   "metadata": {},
   "outputs": [],
   "source": [
    "def both_ends(s):\n",
    "    if len(s) < 2:\n",
    "      return ''\n",
    "    return s[0:2] + s[-2:]\n"
   ]
  },
  {
   "cell_type": "markdown",
   "metadata": {},
   "source": [
    "## C. fix_start\n",
    "Given a string s, return a string    \n",
    "where all occurences of its first char have    \n",
    "been changed to '*', except do not change    \n",
    "the first char itself.    \n",
    "e.g. 'babble' yields 'ba**le'    \n",
    "Assume that the string is length 1 or more.    \n",
    "Hint: s.replace(stra, strb) returns a version of string s    \n",
    "where all instances of stra have been replaced by strb.    "
   ]
  },
  {
   "cell_type": "code",
   "execution_count": 11,
   "metadata": {},
   "outputs": [],
   "source": [
    "def fix_start(s):\n",
    "    # get the first letter\n",
    "  firts = s[0]\n",
    "  # replace all occorences in the rest of the string\n",
    "  s = s.replace(firts, '*')\n",
    "  # reset first letter to original\n",
    "  s = firts + s[1:]\n",
    "  return s"
   ]
  },
  {
   "cell_type": "markdown",
   "metadata": {},
   "source": [
    "## D. MixUp\n",
    "Given strings a and b, return a single string with a and b separated    \n",
    "by a space '\\<a\\> \\<b\\>', except swap the first 2 chars of each string.    \n",
    "e.g.    \n",
    "> 'mix', pod' -> 'pox mid'    \n",
    "> 'dog', 'dinner' -> 'dig donner'       \n",
    " \n",
    "Assume a and b are length 2 or more.    "
   ]
  },
  {
   "cell_type": "code",
   "execution_count": 5,
   "metadata": {},
   "outputs": [],
   "source": [
    "def mix_up(a, b):\n",
    "   # get first 2 letters of a and b\n",
    "  afirst = a[:2]\n",
    "  bfirst = b[:2]\n",
    "  # get remains og a and b\n",
    "  alast = a[2:]\n",
    "  blast = b[2:]\n",
    "  # concatenate a and b\n",
    "  ab = f'{bfirst}{alast} {afirst}{blast}'\n",
    "  return ab"
   ]
  },
  {
   "cell_type": "code",
   "execution_count": 14,
   "metadata": {},
   "outputs": [],
   "source": [
    "# THIS CODE CELL SHOUL NOT BE CHANGED OR TOUCHED (ONLY RUN)\n",
    "\n",
    "# Provided simple test() function used in main() to print\n",
    "# what each function returns vs. what it's supposed to return.\n",
    "def test(got, expected):\n",
    "  if got == expected:\n",
    "    prefix = ' OK '\n",
    "  else:\n",
    "    prefix = '  X '\n",
    "  print (f'{prefix} got: {got} expected: {expected}')"
   ]
  },
  {
   "cell_type": "code",
   "execution_count": 15,
   "metadata": {},
   "outputs": [],
   "source": [
    "# THIS CODE CELL SHOUL NOT BE CHANGED OR TOUCHED (ONLY RUN)\n",
    "\n",
    "# Provided main() calls the above functions with interesting inputs,\n",
    "# using test() to check if each result is correct or not.\n",
    "def main():\n",
    "    print ('donuts')\n",
    "    # Each line calls donuts, compares its result to the expected for that call.\n",
    "    test(donuts(4), 'Number of donuts: 4')\n",
    "    test(donuts(9), 'Number of donuts: 9')\n",
    "    test(donuts(10), 'Number of donuts: many')\n",
    "    test(donuts(99), 'Number of donuts: many')\n",
    "\n",
    "    print()\n",
    "    print ('both_ends')\n",
    "    test(both_ends('spring'), 'spng')\n",
    "    test(both_ends('Hello'), 'Helo')\n",
    "    test(both_ends('a'), '')\n",
    "    test(both_ends('xyz'), 'xyyz')\n",
    "\n",
    "    print()\n",
    "    print ('fix_start')\n",
    "    test(fix_start('babble'), 'ba**le')\n",
    "    test(fix_start('aardvark'), 'a*rdv*rk')\n",
    "    test(fix_start('google'), 'goo*le')\n",
    "    test(fix_start('donut'), 'donut')\n",
    "\n",
    "    print()\n",
    "    print ('mix_up')\n",
    "    test(mix_up('mix', 'pod'), 'pox mid')\n",
    "    test(mix_up('dog', 'dinner'), 'dig donner')\n",
    "    test(mix_up('gnash', 'sport'), 'spash gnort')\n",
    "    test(mix_up('pezzy', 'firm'), 'fizzy perm')\n"
   ]
  },
  {
   "cell_type": "code",
   "execution_count": 16,
   "metadata": {},
   "outputs": [
    {
     "name": "stdout",
     "output_type": "stream",
     "text": [
      "donuts\n",
      " OK  got: Number of donuts: 4 expected: Number of donuts: 4\n",
      " OK  got: Number of donuts: 9 expected: Number of donuts: 9\n",
      " OK  got: Number of donuts: many expected: Number of donuts: many\n",
      " OK  got: Number of donuts: many expected: Number of donuts: many\n",
      "\n",
      "both_ends\n",
      " OK  got: spng expected: spng\n",
      " OK  got: Helo expected: Helo\n",
      " OK  got:  expected: \n",
      " OK  got: xyyz expected: xyyz\n",
      "\n",
      "fix_start\n",
      " OK  got: ba**le expected: ba**le\n",
      " OK  got: a*rdv*rk expected: a*rdv*rk\n",
      " OK  got: goo*le expected: goo*le\n",
      " OK  got: donut expected: donut\n",
      "\n",
      "mix_up\n",
      " OK  got: pox mid expected: pox mid\n",
      " OK  got: dig donner expected: dig donner\n",
      " OK  got: spash gnort expected: spash gnort\n",
      " OK  got: fizzy perm expected: fizzy perm\n"
     ]
    }
   ],
   "source": [
    "# THIS CODE CELL SHOUL NOT BE CHANGED OR TOUCHED (ONLY RUN)\n",
    "\n",
    "main()"
   ]
  },
  {
   "cell_type": "code",
   "execution_count": null,
   "metadata": {},
   "outputs": [],
   "source": []
  }
 ],
 "metadata": {
  "kernelspec": {
   "display_name": ".venv",
   "language": "python",
   "name": "python3"
  },
  "language_info": {
   "codemirror_mode": {
    "name": "ipython",
    "version": 3
   },
   "file_extension": ".py",
   "mimetype": "text/x-python",
   "name": "python",
   "nbconvert_exporter": "python",
   "pygments_lexer": "ipython3",
   "version": "3.12.4"
  }
 },
 "nbformat": 4,
 "nbformat_minor": 2
}
