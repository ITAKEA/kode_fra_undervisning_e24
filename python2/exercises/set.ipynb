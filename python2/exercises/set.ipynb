{
 "cells": [
  {
   "cell_type": "markdown",
   "metadata": {},
   "source": [
    "# Basic set exercises\n",
    "Fill in the code for the functions below. main() is already set up    \n",
    "to call the functions with a few different inputs, printing 'OK' when each function is correct.    \n",
    "The starter code for each function includes a 'return' which is just a placeholder for your code."
   ]
  },
  {
   "cell_type": "markdown",
   "metadata": {},
   "source": [
    "## A. Create a Set\n",
    "Write a function `create_set` that takes a list of elements and returns a set containing the same elements.    \n",
    "e.g. create_set([1, 2, 3, 2]) yields {1, 2, 3}"
   ]
  },
  {
   "cell_type": "code",
   "execution_count": 1,
   "metadata": {},
   "outputs": [],
   "source": [
    "def create_set(list):\n",
    "    # +++your code here+++\n",
    "    return "
   ]
  },
  {
   "cell_type": "markdown",
   "metadata": {},
   "source": [
    "## B. Set Union\n",
    "Write a function `union_sets` that takes two sets and returns their union.    \n",
    "e.g. union_sets({1, 2, 3}, {3, 4, 5}) yields {1, 2, 3, 4, 5}    \n",
    "\n",
    "Make 2 versions, one using the set method, and one using an operator.    "
   ]
  },
  {
   "cell_type": "code",
   "execution_count": 2,
   "metadata": {},
   "outputs": [],
   "source": [
    "def union_sets(s1, s2):\n",
    "    # +++your code here+++\n",
    "    return "
   ]
  },
  {
   "cell_type": "markdown",
   "metadata": {},
   "source": [
    "## C. Set Intersection\n",
    "Write a function `intersect_sets` that takes two sets and returns their intersection.    \n",
    "e.g. intersect_sets({1, 2, 3}, {2, 3, 4}) yields {2, 3}\n",
    "\n",
    "Make 2 versions, one using the set method, and one using an operator."
   ]
  },
  {
   "cell_type": "code",
   "execution_count": 3,
   "metadata": {},
   "outputs": [],
   "source": [
    "def intersect_sets(s1, s2):\n",
    "    # +++your code here+++\n",
    "    return"
   ]
  },
  {
   "cell_type": "markdown",
   "metadata": {},
   "source": [
    "## D. Set Difference\n",
    "Write a function `difference_sets` that takes two sets and returns the difference (elements in the first set but not in the second).    \n",
    "e.g. difference_sets({1, 2, 3}, {2, 3, 4}) yields {1}\n",
    "\n",
    "Make 2 versions, one using the set method, and one using an operator."
   ]
  },
  {
   "cell_type": "code",
   "execution_count": 4,
   "metadata": {},
   "outputs": [],
   "source": [
    "def difference_sets(s1, s2):\n",
    "    # +++your code here+++\n",
    "    return"
   ]
  },
  {
   "cell_type": "markdown",
   "metadata": {},
   "source": [
    "## E. Symmetric Difference\n",
    "Write a function `symmetric_difference_sets` that takes two sets and returns their symmetric difference (elements in either set but not in both).    \n",
    "e.g. symmetric_difference_sets({1, 2, 3}, {3, 4, 5}) yields {1, 2, 4, 5}\n",
    "\n",
    "Make 2 versions, one using the set method, and one using an operator."
   ]
  },
  {
   "cell_type": "code",
   "execution_count": 5,
   "metadata": {},
   "outputs": [],
   "source": [
    "def symmetric_difference_sets(s1, s2):\n",
    "    # +++your code here+++\n",
    "    return"
   ]
  },
  {
   "cell_type": "markdown",
   "metadata": {},
   "source": [
    "## F. Set Subset\n",
    "Write a function `is_subset` that takes two sets and returns `True` if the first set is a subset of the second set, otherwise `False`.    \n",
    "e.g. is_subset({1, 2}, {1, 2, 3}) yields `True`\n",
    "\n",
    "Make 2 versions, one using the set method, and one using an operator."
   ]
  },
  {
   "cell_type": "code",
   "execution_count": 6,
   "metadata": {},
   "outputs": [],
   "source": [
    "def is_subset(s1, s2):\n",
    "    # +++your code here+++\n",
    "    return"
   ]
  },
  {
   "cell_type": "markdown",
   "metadata": {},
   "source": [
    "## G. Set Superset\n",
    "Write a function `is_superset` that takes two sets and returns `True` if the first set is a superset of the second set, otherwise `False`.    \n",
    "e.g. is_superset({1, 2, 3}, {2, 3}) yields `True`\n",
    "\n",
    "Make 2 versions, one using the set method, and one using an operator."
   ]
  },
  {
   "cell_type": "code",
   "execution_count": 7,
   "metadata": {},
   "outputs": [],
   "source": [
    "def is_superset(s1, s2):\n",
    "    # +++your code here+++\n",
    "    return"
   ]
  },
  {
   "cell_type": "code",
   "execution_count": 8,
   "metadata": {},
   "outputs": [],
   "source": [
    "# Function to test the output against the expected result\n",
    "def test(got, expected):\n",
    "    if got == expected:\n",
    "        prefix = ' OK '\n",
    "    else:\n",
    "        prefix = '  X '\n",
    "    print(f'{prefix} got: {got} expected: {expected}')"
   ]
  },
  {
   "cell_type": "code",
   "execution_count": 9,
   "metadata": {},
   "outputs": [
    {
     "name": "stdout",
     "output_type": "stream",
     "text": [
      "create_set\n",
      "  X  got: None expected: {1, 2, 3}\n",
      "  X  got: None expected: {'abc', 'xyz'}\n",
      "  X  got: None expected: {False, True}\n",
      "\n",
      "union_sets\n",
      "  X  got: None expected: {1, 2, 3, 4, 5}\n",
      "  X  got: None expected: {'cherry', 'apple', 'banana'}\n",
      "  X  got: None expected: {'x', 'y', 'z'}\n",
      "\n",
      "intersect_sets\n",
      "  X  got: None expected: {2, 3}\n",
      "  X  got: None expected: {'banana'}\n",
      "  X  got: None expected: {'y', 'z'}\n",
      "\n",
      "difference_sets\n",
      "  X  got: None expected: {1, 2}\n",
      "  X  got: None expected: {'cherry', 'apple'}\n",
      "  X  got: None expected: {'x'}\n",
      "\n",
      "symmetric_difference_sets\n",
      "  X  got: None expected: {1, 2, 4, 5}\n",
      "  X  got: None expected: {'cherry', 'apple'}\n",
      "  X  got: None expected: {'x', 'z'}\n",
      "\n",
      "is_subset\n",
      "  X  got: None expected: True\n",
      "  X  got: None expected: False\n",
      "  X  got: None expected: True\n",
      "\n",
      "is_superset\n",
      "  X  got: None expected: True\n",
      "  X  got: None expected: False\n",
      "  X  got: None expected: True\n",
      "\n"
     ]
    }
   ],
   "source": [
    "# Calls the above functions with interesting inputs.\n",
    "def main():\n",
    "    print('create_set')\n",
    "    test(create_set([1, 2, 3, 2]), {1, 2, 3})\n",
    "    test(create_set(['abc', 'xyz', 'abc', 'xyz']), {'abc', 'xyz'})\n",
    "    test(create_set([True, False, False, False, True]), {True, False})\n",
    "    print()\n",
    "\n",
    "    print('union_sets')\n",
    "    test(union_sets({1, 2, 3}, {3, 4, 5}), {1, 2, 3, 4, 5})\n",
    "    test(union_sets({'apple', 'banana'}, {'banana', 'cherry'}), {'apple', 'banana', 'cherry'})\n",
    "    test(union_sets({'x', 'y'}, {'y', 'z', 'x'}), {'x', 'y', 'z'})\n",
    "    print()\n",
    "\n",
    "    print('intersect_sets')\n",
    "    test(intersect_sets({1, 2, 3}, {2, 3, 4}), {2, 3})\n",
    "    test(intersect_sets({'apple', 'banana'}, {'banana', 'cherry'}), {'banana'})\n",
    "    test(intersect_sets({'x', 'y', 'z'}, {'a', 'y', 'z'}), {'y', 'z'})\n",
    "    print()\n",
    "\n",
    "    print('difference_sets')\n",
    "    test(difference_sets({1, 2, 3}, {3, 4, 5}), {1, 2})\n",
    "    test(difference_sets({'apple', 'banana', 'cherry'}, {'banana'}), {'apple', 'cherry'})\n",
    "    test(difference_sets({'x', 'y', 'z'}, {'y', 'z'}), {'x'})\n",
    "    print()\n",
    "\n",
    "    print('symmetric_difference_sets')\n",
    "    test(symmetric_difference_sets({1, 2, 3}, {3, 4, 5}), {1, 2, 4, 5})\n",
    "    test(symmetric_difference_sets({'apple', 'banana'}, {'banana', 'cherry'}), {'apple', 'cherry'})\n",
    "    test(symmetric_difference_sets({'x', 'y'}, {'y', 'z'}), {'x', 'z'})\n",
    "    print()\n",
    "\n",
    "    print('is_subset')\n",
    "    test(is_subset({1, 2}, {1, 2, 3}), True)\n",
    "    test(is_subset({'apple', 'banana'}, {'banana'}), False)\n",
    "    test(is_subset({'x'}, {'x', 'y', 'z'}), True)\n",
    "    print()\n",
    "\n",
    "    print('is_superset')\n",
    "    test(is_superset({1, 2, 3}, {2, 3}), True)\n",
    "    test(is_superset({'banana'}, {'apple', 'banana', 'cherry'}), False)\n",
    "    test(is_superset({'x', 'y', 'z'}, {'x', 'z'}), True)\n",
    "    print()\n",
    "\n",
    "main()"
   ]
  }
 ],
 "metadata": {
  "kernelspec": {
   "display_name": ".venv",
   "language": "python",
   "name": "python3"
  },
  "language_info": {
   "codemirror_mode": {
    "name": "ipython",
    "version": 3
   },
   "file_extension": ".py",
   "mimetype": "text/x-python",
   "name": "python",
   "nbconvert_exporter": "python",
   "pygments_lexer": "ipython3",
   "version": "3.12.5"
  }
 },
 "nbformat": 4,
 "nbformat_minor": 2
}
