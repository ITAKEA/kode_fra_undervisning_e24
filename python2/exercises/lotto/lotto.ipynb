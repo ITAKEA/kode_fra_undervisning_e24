{
 "cells": [
  {
   "cell_type": "markdown",
   "metadata": {},
   "source": [
    "# Lotto udtrækning\n",
    "## Set øvelse     \n",
    "\n",
    "I csv filen lotto_bids.csv findes der 10000 rækker med fiktive lotto bud.    \n",
    "Din opgave er at finde ud af hvor mange der har fået henholdsvis 7, 6 og 5 rigtige.   \n",
    "\n",
    "Og Husk! : **KISS**"
   ]
  },
  {
   "cell_type": "code",
   "execution_count": 28,
   "metadata": {},
   "outputs": [],
   "source": [
    "import csv\n",
    "\n",
    "\n",
    "# skriv din kode her"
   ]
  }
 ],
 "metadata": {
  "kernelspec": {
   "display_name": ".venv",
   "language": "python",
   "name": "python3"
  },
  "language_info": {
   "codemirror_mode": {
    "name": "ipython",
    "version": 3
   },
   "file_extension": ".py",
   "mimetype": "text/x-python",
   "name": "python",
   "nbconvert_exporter": "python",
   "pygments_lexer": "ipython3",
   "version": "3.12.5"
  }
 },
 "nbformat": 4,
 "nbformat_minor": 2
}
