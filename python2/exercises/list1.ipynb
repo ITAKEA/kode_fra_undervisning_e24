{
 "cells": [
  {
   "cell_type": "markdown",
   "metadata": {},
   "source": [
    "# Basic list & tuples exercises\n",
    "\n",
    "Fill in the code for the functions below. main() is already set up to call the functions with a few different inputs, printing 'OK' when each function is correct. The starter code for each function includes a 'return' which is just a placeholder for your code."
   ]
  },
  {
   "cell_type": "markdown",
   "metadata": {},
   "source": [
    "## A. match_ends\n",
    "Given a list of strings, return the count of the number of strings where the string length is 2 or more and the first and last chars of the string are the same.\n",
    "\n",
    "_Note: python does not have a ++ operator, but += works._"
   ]
  },
  {
   "cell_type": "code",
   "execution_count": 1,
   "metadata": {},
   "outputs": [],
   "source": [
    "def match_ends(words):\n",
    "    # +++your code here+++\n",
    "    return "
   ]
  },
  {
   "cell_type": "markdown",
   "metadata": {},
   "source": [
    "## B. front_x\n",
    "Given a list of strings, return a list with the strings in sorted order, except group all the strings that begin with 'x' first.    \n",
    "e.g. ['mix', 'xyz', 'apple', 'xanadu', 'aardvark'] yields ['xanadu', 'xyz', 'aardvark', 'apple', 'mix']    \n",
    "\n",
    "_Hint: this can be done by making 2 lists and sorting each of them before combining them._"
   ]
  },
  {
   "cell_type": "code",
   "execution_count": 2,
   "metadata": {},
   "outputs": [],
   "source": [
    "def front_x(words):\n",
    "    # +++your code here+++\n",
    "    return "
   ]
  },
  {
   "cell_type": "markdown",
   "metadata": {},
   "source": [
    "## C. sort_last\n",
    "Given a list of non-empty tuples, return a list sorted in increasing order by the last element in each tuple.    \n",
    "e.g. [(1, 7), (1, 3), (3, 4, 5), (2, 2)] yields [(2, 2), (1, 3), (3, 4, 5), (1, 7)]\n",
    "\n",
    "_Hint: use a custom key= function to extract the last element form each tuple._"
   ]
  },
  {
   "cell_type": "code",
   "execution_count": 3,
   "metadata": {},
   "outputs": [],
   "source": [
    "def sort_last(tuples):\n",
    "    # +++your code here+++\n",
    "    return "
   ]
  },
  {
   "cell_type": "markdown",
   "metadata": {},
   "source": [
    "### THE CODE CELLS BELOW SHOUL NOT BE CHANGED OR TOUCHED (ONLY RUN)"
   ]
  },
  {
   "cell_type": "code",
   "execution_count": 4,
   "metadata": {},
   "outputs": [],
   "source": [
    "# THIS CODE CELL SHOUL NOT BE CHANGED OR TOUCHED (ONLY RUN)\n",
    "\n",
    "# Simple provided test() function used in main() to print\n",
    "# what each function returns vs. what it's supposed to return.\n",
    "def test(got, expected):\n",
    "  if got == expected:\n",
    "    prefix = ' OK '\n",
    "  else:\n",
    "    prefix = '  X '\n",
    "  print (f'{prefix} got: {got} expected: {expected}')"
   ]
  },
  {
   "cell_type": "code",
   "execution_count": 5,
   "metadata": {},
   "outputs": [],
   "source": [
    "# THIS CODE CELL SHOUL NOT BE CHANGED OR TOUCHED (ONLY RUN)\n",
    "\n",
    "# Calls the above functions with interesting inputs.\n",
    "def main():\n",
    "  print ('match_ends')\n",
    "  test(match_ends(['aba', 'xyz', 'aa', 'x', 'bbb']), 3)\n",
    "  test(match_ends(['', 'x', 'xy', 'xyx', 'xx']), 2)\n",
    "  test(match_ends(['aaa', 'be', 'abc', 'hello']), 1)\n",
    "\n",
    "  print()\n",
    "  print ('front_x')\n",
    "  test(front_x(['bbb', 'ccc', 'axx', 'xzz', 'xaa']),\n",
    "       ['xaa', 'xzz', 'axx', 'bbb', 'ccc'])\n",
    "  test(front_x(['ccc', 'bbb', 'aaa', 'xcc', 'xaa']),\n",
    "       ['xaa', 'xcc', 'aaa', 'bbb', 'ccc'])\n",
    "  test(front_x(['mix', 'xyz', 'apple', 'xanadu', 'aardvark']),\n",
    "       ['xanadu', 'xyz', 'aardvark', 'apple', 'mix'])\n",
    "\n",
    "       \n",
    "  print()\n",
    "  print ('sort_last')\n",
    "  test(sort_last([(1, 3), (3, 2), (2, 1)]),\n",
    "       [(2, 1), (3, 2), (1, 3)])\n",
    "  test(sort_last([(2, 3), (1, 2), (3, 1)]),\n",
    "       [(3, 1), (1, 2), (2, 3)])\n",
    "  test(sort_last([(1, 7), (1, 3), (3, 4, 5), (2, 2)]),\n",
    "       [(2, 2), (1, 3), (3, 4, 5), (1, 7)])"
   ]
  },
  {
   "cell_type": "code",
   "execution_count": 7,
   "metadata": {},
   "outputs": [
    {
     "name": "stdout",
     "output_type": "stream",
     "text": [
      "match_ends\n",
      "  X  got: None expected: 3\n",
      "  X  got: None expected: 2\n",
      "  X  got: None expected: 1\n",
      "\n",
      "front_x\n",
      "  X  got: None expected: ['xaa', 'xzz', 'axx', 'bbb', 'ccc']\n",
      "  X  got: None expected: ['xaa', 'xcc', 'aaa', 'bbb', 'ccc']\n",
      "  X  got: None expected: ['xanadu', 'xyz', 'aardvark', 'apple', 'mix']\n",
      "\n",
      "sort_last\n",
      "  X  got: None expected: [(2, 1), (3, 2), (1, 3)]\n",
      "  X  got: None expected: [(3, 1), (1, 2), (2, 3)]\n",
      "  X  got: None expected: [(2, 2), (1, 3), (3, 4, 5), (1, 7)]\n"
     ]
    }
   ],
   "source": [
    "# THIS CODE CELL SHOUL NOT BE CHANGED OR TOUCHED (ONLY RUN)\n",
    "main()"
   ]
  },
  {
   "cell_type": "code",
   "execution_count": 18,
   "metadata": {},
   "outputs": [],
   "source": [
    "# Copyright 2010 Google Inc.\n",
    "# Licensed under the Apache License, Version 2.0\n",
    "# http://www.apache.org/licenses/LICENSE-2.0"
   ]
  }
 ],
 "metadata": {
  "kernelspec": {
   "display_name": ".venv",
   "language": "python",
   "name": "python3"
  },
  "language_info": {
   "codemirror_mode": {
    "name": "ipython",
    "version": 3
   },
   "file_extension": ".py",
   "mimetype": "text/x-python",
   "name": "python",
   "nbconvert_exporter": "python",
   "pygments_lexer": "ipython3",
   "version": "3.12.5"
  }
 },
 "nbformat": 4,
 "nbformat_minor": 2
}
