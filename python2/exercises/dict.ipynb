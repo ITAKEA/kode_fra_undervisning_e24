{
 "cells": [
  {
   "cell_type": "markdown",
   "metadata": {},
   "source": [
    "# Basic dictionary exercises\n",
    "Fill in the code for the functions below. main() is already set up to call the functions with a few different inputs, printing 'OK' when each function is correct.    \n",
    "The starter code for each function includes a 'return' which is just a placeholder for your code."
   ]
  },
  {
   "cell_type": "markdown",
   "metadata": {},
   "source": [
    "## A. Create a Dictionary\n",
    "Write a function `create_dict` that takes two lists of the same length and returns a dictionary where the elements of the first list are the keys, and the elements of the second list are the values.    \n",
    "e.g. create_dict(['a', 'b', 'c'], [1, 2, 3]) yields {'a': 1, 'b': 2, 'c': 3}"
   ]
  },
  {
   "cell_type": "code",
   "execution_count": 25,
   "metadata": {},
   "outputs": [],
   "source": [
    "def create_dict(keys, values):\n",
    "    # +++your code here+++\n",
    "    return "
   ]
  },
  {
   "cell_type": "markdown",
   "metadata": {},
   "source": [
    "## B. Merge Dictionaries\n",
    "Write a function `merge_dicts` that takes two dictionaries and merges them into one.    \n",
    "If there are overlapping keys, the values from the second dictionary should be used.    \n",
    "e.g. merge_dicts({'a': 1, 'b': 2}, {'b': 3, 'c': 4}) yields {'a': 1, 'b': 3, 'c': 4}"
   ]
  },
  {
   "cell_type": "code",
   "execution_count": 26,
   "metadata": {},
   "outputs": [],
   "source": [
    "def merge_dicts(dict1, dict2):\n",
    "    # +++your code here+++\n",
    "    return"
   ]
  },
  {
   "cell_type": "markdown",
   "metadata": {},
   "source": [
    "## C. Get Value\n",
    "Write a function `get_value` that takes a dictionary and a key, and returns the value associated with that key.    \n",
    "If the key is not in the dictionary, return 'Key not found'.    \n",
    "e.g. get_value({'a': 1, 'b': 2}, 'b') yields 2"
   ]
  },
  {
   "cell_type": "code",
   "execution_count": 27,
   "metadata": {},
   "outputs": [],
   "source": [
    "def get_value(dict, key):\n",
    "    # +++your code here+++\n",
    "    return "
   ]
  },
  {
   "cell_type": "markdown",
   "metadata": {},
   "source": [
    "## D. Key Exists\n",
    "Write a function `key_exists` that takes a dictionary and a key, and returns True if the key exists in the dictionary, otherwise False.    \n",
    "e.g. key_exists({'a': 1, 'b': 2}, 'c') yields False    "
   ]
  },
  {
   "cell_type": "code",
   "execution_count": 28,
   "metadata": {},
   "outputs": [],
   "source": [
    "def key_exists(dict, key):\n",
    "    # +++your code here+++\n",
    "    return "
   ]
  },
  {
   "cell_type": "markdown",
   "metadata": {},
   "source": [
    "## E. Update Value\n",
    "Write a function `update_value` that takes a dictionary, a key, and a value.    \n",
    "Update the value associated with the key in the dictionary, or add the key-value pair if the key does not exist.    \n",
    "Return the updated dictionary.    \n",
    "e.g. update_value({'a': 1, 'b': 2}, 'b', 3) yields {'a': 1, 'b': 3}"
   ]
  },
  {
   "cell_type": "code",
   "execution_count": 29,
   "metadata": {},
   "outputs": [],
   "source": [
    "def update_value(dict, key, value):\n",
    "    # +++your code here+++\n",
    "    return "
   ]
  },
  {
   "cell_type": "markdown",
   "metadata": {},
   "source": [
    "## F. Remove Key\n",
    "Write a function `remove_key` that takes a dictionary and a key, and removes the key from the dictionary.    \n",
    "If the key is not in the dictionary, return the original dictionary.    \n",
    "e.g. remove_key({'a': 1, 'b': 2}, 'a') yields {'b': 2}    "
   ]
  },
  {
   "cell_type": "code",
   "execution_count": 30,
   "metadata": {},
   "outputs": [],
   "source": [
    "def remove_key(dict, key):\n",
    "    # +++your code here+++\n",
    "    return "
   ]
  },
  {
   "cell_type": "markdown",
   "metadata": {},
   "source": [
    "## G. Convert to List\n",
    "Write a function `dict_to_list` that takes a dictionary and returns a list of tuples, where each tuple is a key-value pair from the dictionary.\n",
    "e.g. dict_to_list({'a': 1, 'b': 2}) yields [('a', 1), ('b', 2)]    \n"
   ]
  },
  {
   "cell_type": "code",
   "execution_count": 31,
   "metadata": {},
   "outputs": [],
   "source": [
    "def dict_to_list(dict):\n",
    "    # +++your code here+++\n",
    "    return "
   ]
  },
  {
   "cell_type": "code",
   "execution_count": 32,
   "metadata": {},
   "outputs": [
    {
     "name": "stdout",
     "output_type": "stream",
     "text": [
      "create_dict\n",
      "  X  got: None expected: {'a': 1, 'b': 2, 'c': 3}\n",
      "  X  got: None expected: {'x': 'cat', 'y': 'dog', 'z': 'bird'}\n",
      "  X  got: None expected: {1: 'one', 2: 'two', 3: 'three'}\n",
      "\n",
      "merge_dicts\n",
      "  X  got: None expected: {'a': 1, 'b': 3, 'c': 4}\n",
      "  X  got: None expected: {'x': 'cat', 'y': 'parrot', 'z': 'fish'}\n",
      "  X  got: None expected: {1: 'one', 2: 'two', 3: 'three', 4: 'four'}\n",
      "\n",
      "get_value\n",
      "  X  got: None expected: 2\n",
      "  X  got: None expected: Key not found\n",
      "  X  got: None expected: one\n",
      "\n",
      "key_exists\n",
      "  X  got: None expected: False\n",
      "  X  got: None expected: True\n",
      "  X  got: None expected: False\n",
      "\n",
      "update_value\n",
      "  X  got: None expected: {'a': 1, 'b': 3}\n",
      "  X  got: None expected: {'x': 'cat', 'y': 'parrot'}\n",
      "  X  got: None expected: {1: 'one', 2: 'two', 3: 'three'}\n",
      "\n",
      "remove_key\n",
      "  X  got: None expected: {'b': 2}\n",
      "  X  got: None expected: {'x': 'cat', 'y': 'dog'}\n",
      "  X  got: None expected: {2: 'two'}\n",
      "\n",
      "dict_to_list\n",
      "  X  got: None expected: [('a', 1), ('b', 2)]\n",
      "  X  got: None expected: [('x', 'cat'), ('y', 'dog')]\n",
      "  X  got: None expected: [(1, 'one'), (2, 'two')]\n",
      "\n"
     ]
    }
   ],
   "source": [
    "# Function to test the output against the expected result\n",
    "def test(got, expected):\n",
    "    if got == expected:\n",
    "        prefix = ' OK '\n",
    "    else:\n",
    "        prefix = '  X '\n",
    "    print(f'{prefix} got: {got} expected: {expected}')\n",
    "\n",
    "# Calls the above functions with interesting inputs.\n",
    "def main():\n",
    "    print('create_dict')\n",
    "    test(create_dict(['a', 'b', 'c'], [1, 2, 3]), {'a': 1, 'b': 2, 'c': 3})\n",
    "    test(create_dict(['x', 'y', 'z'], ['cat', 'dog', 'bird']), {'x': 'cat', 'y': 'dog', 'z': 'bird'})\n",
    "    test(create_dict([1, 2, 3], ['one', 'two', 'three']), {1: 'one', 2: 'two', 3: 'three'})\n",
    "    print()\n",
    "\n",
    "    print('merge_dicts')\n",
    "    test(merge_dicts({'a': 1, 'b': 2}, {'b': 3, 'c': 4}), {'a': 1, 'b': 3, 'c': 4})\n",
    "    test(merge_dicts({'x': 'cat', 'y': 'dog'}, {'y': 'parrot', 'z': 'fish'}), {'x': 'cat', 'y': 'parrot', 'z': 'fish'})\n",
    "    test(merge_dicts({1: 'one', 2: 'two'}, {3: 'three', 4: 'four'}), {1: 'one', 2: 'two', 3: 'three', 4: 'four'})\n",
    "    print()\n",
    "\n",
    "    print('get_value')\n",
    "    test(get_value({'a': 1, 'b': 2}, 'b'), 2)\n",
    "    test(get_value({'x': 'cat', 'y': 'dog'}, 'z'), 'Key not found')\n",
    "    test(get_value({1: 'one', 2: 'two'}, 1), 'one')\n",
    "    print()\n",
    "\n",
    "    print('key_exists')\n",
    "    test(key_exists({'a': 1, 'b': 2}, 'c'), False)\n",
    "    test(key_exists({'x': 'cat', 'y': 'dog'}, 'x'), True)\n",
    "    test(key_exists({1: 'one', 2: 'two'}, 3), False)\n",
    "    print()\n",
    "\n",
    "    print('update_value')\n",
    "    test(update_value({'a': 1, 'b': 2}, 'b', 3), {'a': 1, 'b': 3})\n",
    "    test(update_value({'x': 'cat', 'y': 'dog'}, 'y', 'parrot'), {'x': 'cat', 'y': 'parrot'})\n",
    "    test(update_value({1: 'one', 2: 'two'}, 3, 'three'), {1: 'one', 2: 'two', 3: 'three'})\n",
    "    print()\n",
    "\n",
    "    print('remove_key')\n",
    "    test(remove_key({'a': 1, 'b': 2}, 'a'), {'b': 2})\n",
    "    test(remove_key({'x': 'cat', 'y': 'dog'}, 'z'), {'x': 'cat', 'y': 'dog'})\n",
    "    test(remove_key({1: 'one', 2: 'two'}, 1), {2: 'two'})\n",
    "    print()\n",
    "\n",
    "    print('dict_to_list')\n",
    "    test(dict_to_list({'a': 1, 'b': 2}), [('a', 1), ('b', 2)])\n",
    "    test(dict_to_list({'x': 'cat', 'y': 'dog'}), [('x', 'cat'), ('y', 'dog')])\n",
    "    test(dict_to_list({1: 'one', 2: 'two'}), [(1, 'one'), (2, 'two')])\n",
    "    print()\n",
    "\n",
    "main()"
   ]
  }
 ],
 "metadata": {
  "kernelspec": {
   "display_name": ".venv",
   "language": "python",
   "name": "python3"
  },
  "language_info": {
   "codemirror_mode": {
    "name": "ipython",
    "version": 3
   },
   "file_extension": ".py",
   "mimetype": "text/x-python",
   "name": "python",
   "nbconvert_exporter": "python",
   "pygments_lexer": "ipython3",
   "version": "3.12.5"
  }
 },
 "nbformat": 4,
 "nbformat_minor": 2
}
