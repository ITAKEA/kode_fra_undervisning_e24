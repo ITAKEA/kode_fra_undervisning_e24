{
 "cells": [
  {
   "cell_type": "markdown",
   "metadata": {},
   "source": [
    "# Demo om brug github api og `requests`"
   ]
  },
  {
   "cell_type": "code",
   "execution_count": 5,
   "metadata": {},
   "outputs": [],
   "source": [
    "#%pip install requests\n",
    "#%pip install python-dotenv"
   ]
  },
  {
   "cell_type": "code",
   "execution_count": 6,
   "metadata": {},
   "outputs": [
    {
     "data": {
      "text/plain": [
       "False"
      ]
     },
     "execution_count": 6,
     "metadata": {},
     "output_type": "execute_result"
    }
   ],
   "source": [
    "import requests\n",
    "from dotenv import load_dotenv\n",
    "import os\n",
    "\n",
    "# indlæs alle miljøvariabler fra .env filen\n",
    "load_dotenv()"
   ]
  },
  {
   "cell_type": "code",
   "execution_count": 7,
   "metadata": {},
   "outputs": [],
   "source": [
    "url = 'https://api.github.com/users/clbokea/repos'\n",
    "req = requests.get(url)\n",
    "j = req.json()\n",
    "\n",
    "\n",
    "l = []\n",
    "for i in j:\n",
    "    l.append(i['name'])\n",
    "\n",
    "l.append(j)"
   ]
  },
  {
   "cell_type": "code",
   "execution_count": 10,
   "metadata": {},
   "outputs": [
    {
     "data": {
      "text/plain": [
       "{'message': 'Bad credentials',\n",
       " 'documentation_url': 'https://docs.github.com/rest',\n",
       " 'status': '401'}"
      ]
     },
     "execution_count": 10,
     "metadata": {},
     "output_type": "execute_result"
    }
   ],
   "source": [
    "github_access_token = os.getenv('GITHUB_ACCESS_TOKEN')\n",
    "\n",
    "url = 'https://api.github.com/user/repos/'\n",
    "headers = {'Authorization': f'token {github_access_token}' }\n",
    "req = requests.get(url, headers=headers)\n",
    "req.json()"
   ]
  }
 ],
 "metadata": {
  "kernelspec": {
   "display_name": ".venv",
   "language": "python",
   "name": "python3"
  },
  "language_info": {
   "codemirror_mode": {
    "name": "ipython",
    "version": 3
   },
   "file_extension": ".py",
   "mimetype": "text/x-python",
   "name": "python",
   "nbconvert_exporter": "python",
   "pygments_lexer": "ipython3",
   "version": "3.12.5"
  }
 },
 "nbformat": 4,
 "nbformat_minor": 2
}
