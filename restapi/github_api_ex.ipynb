{
 "cells": [
  {
   "cell_type": "markdown",
   "metadata": {},
   "source": [
    "# Demo om brug github api og `requests`"
   ]
  },
  {
   "cell_type": "code",
   "execution_count": 12,
   "metadata": {},
   "outputs": [],
   "source": [
    "#%pip install requests\n",
    "#%pip install python-dotenv"
   ]
  },
  {
   "cell_type": "code",
   "execution_count": 1,
   "metadata": {},
   "outputs": [
    {
     "data": {
      "text/plain": [
       "True"
      ]
     },
     "execution_count": 1,
     "metadata": {},
     "output_type": "execute_result"
    }
   ],
   "source": [
    "import requests\n",
    "from dotenv import load_dotenv\n",
    "import os\n",
    "\n",
    "# indlæs alle miljøvariabler fra .env filen\n",
    "load_dotenv()"
   ]
  },
  {
   "cell_type": "code",
   "execution_count": 9,
   "metadata": {},
   "outputs": [
    {
     "data": {
      "text/plain": [
       "'https://avatars.githubusercontent.com/u/7817904?v=4'"
      ]
     },
     "execution_count": 9,
     "metadata": {},
     "output_type": "execute_result"
    }
   ],
   "source": [
    "url = 'https://api.github.com/repos/clbokea/linux'\n",
    "req = requests.get(url)\n",
    "j = req.json()\n",
    "j['owner']['avatar_url']"
   ]
  },
  {
   "cell_type": "code",
   "execution_count": 11,
   "metadata": {},
   "outputs": [
    {
     "data": {
      "text/plain": [
       "{'id': 858166963,\n",
       " 'node_id': 'R_kgDOMyaWsw',\n",
       " 'name': 'python_args',\n",
       " 'full_name': 'clbokea/python_args',\n",
       " 'private': True,\n",
       " 'owner': {'login': 'clbokea',\n",
       "  'id': 7817904,\n",
       "  'node_id': 'MDQ6VXNlcjc4MTc5MDQ=',\n",
       "  'avatar_url': 'https://avatars.githubusercontent.com/u/7817904?v=4',\n",
       "  'gravatar_id': '',\n",
       "  'url': 'https://api.github.com/users/clbokea',\n",
       "  'html_url': 'https://github.com/clbokea',\n",
       "  'followers_url': 'https://api.github.com/users/clbokea/followers',\n",
       "  'following_url': 'https://api.github.com/users/clbokea/following{/other_user}',\n",
       "  'gists_url': 'https://api.github.com/users/clbokea/gists{/gist_id}',\n",
       "  'starred_url': 'https://api.github.com/users/clbokea/starred{/owner}{/repo}',\n",
       "  'subscriptions_url': 'https://api.github.com/users/clbokea/subscriptions',\n",
       "  'organizations_url': 'https://api.github.com/users/clbokea/orgs',\n",
       "  'repos_url': 'https://api.github.com/users/clbokea/repos',\n",
       "  'events_url': 'https://api.github.com/users/clbokea/events{/privacy}',\n",
       "  'received_events_url': 'https://api.github.com/users/clbokea/received_events',\n",
       "  'type': 'User',\n",
       "  'site_admin': False},\n",
       " 'html_url': 'https://github.com/clbokea/python_args',\n",
       " 'description': None,\n",
       " 'fork': False,\n",
       " 'url': 'https://api.github.com/repos/clbokea/python_args',\n",
       " 'forks_url': 'https://api.github.com/repos/clbokea/python_args/forks',\n",
       " 'keys_url': 'https://api.github.com/repos/clbokea/python_args/keys{/key_id}',\n",
       " 'collaborators_url': 'https://api.github.com/repos/clbokea/python_args/collaborators{/collaborator}',\n",
       " 'teams_url': 'https://api.github.com/repos/clbokea/python_args/teams',\n",
       " 'hooks_url': 'https://api.github.com/repos/clbokea/python_args/hooks',\n",
       " 'issue_events_url': 'https://api.github.com/repos/clbokea/python_args/issues/events{/number}',\n",
       " 'events_url': 'https://api.github.com/repos/clbokea/python_args/events',\n",
       " 'assignees_url': 'https://api.github.com/repos/clbokea/python_args/assignees{/user}',\n",
       " 'branches_url': 'https://api.github.com/repos/clbokea/python_args/branches{/branch}',\n",
       " 'tags_url': 'https://api.github.com/repos/clbokea/python_args/tags',\n",
       " 'blobs_url': 'https://api.github.com/repos/clbokea/python_args/git/blobs{/sha}',\n",
       " 'git_tags_url': 'https://api.github.com/repos/clbokea/python_args/git/tags{/sha}',\n",
       " 'git_refs_url': 'https://api.github.com/repos/clbokea/python_args/git/refs{/sha}',\n",
       " 'trees_url': 'https://api.github.com/repos/clbokea/python_args/git/trees{/sha}',\n",
       " 'statuses_url': 'https://api.github.com/repos/clbokea/python_args/statuses/{sha}',\n",
       " 'languages_url': 'https://api.github.com/repos/clbokea/python_args/languages',\n",
       " 'stargazers_url': 'https://api.github.com/repos/clbokea/python_args/stargazers',\n",
       " 'contributors_url': 'https://api.github.com/repos/clbokea/python_args/contributors',\n",
       " 'subscribers_url': 'https://api.github.com/repos/clbokea/python_args/subscribers',\n",
       " 'subscription_url': 'https://api.github.com/repos/clbokea/python_args/subscription',\n",
       " 'commits_url': 'https://api.github.com/repos/clbokea/python_args/commits{/sha}',\n",
       " 'git_commits_url': 'https://api.github.com/repos/clbokea/python_args/git/commits{/sha}',\n",
       " 'comments_url': 'https://api.github.com/repos/clbokea/python_args/comments{/number}',\n",
       " 'issue_comment_url': 'https://api.github.com/repos/clbokea/python_args/issues/comments{/number}',\n",
       " 'contents_url': 'https://api.github.com/repos/clbokea/python_args/contents/{+path}',\n",
       " 'compare_url': 'https://api.github.com/repos/clbokea/python_args/compare/{base}...{head}',\n",
       " 'merges_url': 'https://api.github.com/repos/clbokea/python_args/merges',\n",
       " 'archive_url': 'https://api.github.com/repos/clbokea/python_args/{archive_format}{/ref}',\n",
       " 'downloads_url': 'https://api.github.com/repos/clbokea/python_args/downloads',\n",
       " 'issues_url': 'https://api.github.com/repos/clbokea/python_args/issues{/number}',\n",
       " 'pulls_url': 'https://api.github.com/repos/clbokea/python_args/pulls{/number}',\n",
       " 'milestones_url': 'https://api.github.com/repos/clbokea/python_args/milestones{/number}',\n",
       " 'notifications_url': 'https://api.github.com/repos/clbokea/python_args/notifications{?since,all,participating}',\n",
       " 'labels_url': 'https://api.github.com/repos/clbokea/python_args/labels{/name}',\n",
       " 'releases_url': 'https://api.github.com/repos/clbokea/python_args/releases{/id}',\n",
       " 'deployments_url': 'https://api.github.com/repos/clbokea/python_args/deployments',\n",
       " 'created_at': '2024-09-16T12:32:17Z',\n",
       " 'updated_at': '2024-09-16T12:32:22Z',\n",
       " 'pushed_at': '2024-09-16T12:32:19Z',\n",
       " 'git_url': 'git://github.com/clbokea/python_args.git',\n",
       " 'ssh_url': 'git@github.com:clbokea/python_args.git',\n",
       " 'clone_url': 'https://github.com/clbokea/python_args.git',\n",
       " 'svn_url': 'https://github.com/clbokea/python_args',\n",
       " 'homepage': None,\n",
       " 'size': 0,\n",
       " 'stargazers_count': 0,\n",
       " 'watchers_count': 0,\n",
       " 'language': 'Python',\n",
       " 'has_issues': True,\n",
       " 'has_projects': True,\n",
       " 'has_downloads': True,\n",
       " 'has_wiki': True,\n",
       " 'has_pages': False,\n",
       " 'has_discussions': False,\n",
       " 'forks_count': 0,\n",
       " 'mirror_url': None,\n",
       " 'archived': False,\n",
       " 'disabled': False,\n",
       " 'open_issues_count': 0,\n",
       " 'license': None,\n",
       " 'allow_forking': True,\n",
       " 'is_template': False,\n",
       " 'web_commit_signoff_required': False,\n",
       " 'topics': [],\n",
       " 'visibility': 'private',\n",
       " 'forks': 0,\n",
       " 'open_issues': 0,\n",
       " 'watchers': 0,\n",
       " 'default_branch': 'main',\n",
       " 'permissions': {'admin': True,\n",
       "  'maintain': True,\n",
       "  'push': True,\n",
       "  'triage': True,\n",
       "  'pull': True},\n",
       " 'temp_clone_token': 'AB3UVMGC4AMY62Q6ZM3M2JDG5KAKY',\n",
       " 'allow_squash_merge': True,\n",
       " 'allow_merge_commit': True,\n",
       " 'allow_rebase_merge': True,\n",
       " 'allow_auto_merge': False,\n",
       " 'delete_branch_on_merge': False,\n",
       " 'allow_update_branch': False,\n",
       " 'use_squash_pr_title_as_default': False,\n",
       " 'squash_merge_commit_message': 'COMMIT_MESSAGES',\n",
       " 'squash_merge_commit_title': 'COMMIT_OR_PR_TITLE',\n",
       " 'merge_commit_message': 'PR_TITLE',\n",
       " 'merge_commit_title': 'MERGE_MESSAGE',\n",
       " 'network_count': 0,\n",
       " 'subscribers_count': 1}"
      ]
     },
     "execution_count": 11,
     "metadata": {},
     "output_type": "execute_result"
    }
   ],
   "source": [
    "github_access_token = os.getenv('GITHUB_ACCESS_TOKEN')\n",
    "\n",
    "url = 'https://api.github.com/repos/clbokea/python_args'\n",
    "headers = {'Authorization': f'token {github_access_token}' }\n",
    "req = requests.get(url, headers=headers)\n",
    "req.json()"
   ]
  }
 ],
 "metadata": {
  "kernelspec": {
   "display_name": ".venv",
   "language": "python",
   "name": "python3"
  },
  "language_info": {
   "codemirror_mode": {
    "name": "ipython",
    "version": 3
   },
   "file_extension": ".py",
   "mimetype": "text/x-python",
   "name": "python",
   "nbconvert_exporter": "python",
   "pygments_lexer": "ipython3",
   "version": "3.12.5"
  }
 },
 "nbformat": 4,
 "nbformat_minor": 2
}
